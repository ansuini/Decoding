{
 "cells": [
  {
   "cell_type": "markdown",
   "metadata": {},
   "source": [
    "# Dependency on population size"
   ]
  },
  {
   "cell_type": "code",
   "execution_count": 1,
   "metadata": {},
   "outputs": [],
   "source": [
    "%reload_ext autoreload\n",
    "%autoreload 2\n",
    "%matplotlib inline"
   ]
  },
  {
   "cell_type": "code",
   "execution_count": 2,
   "metadata": {},
   "outputs": [
    {
     "name": "stderr",
     "output_type": "stream",
     "text": [
      "/home/ansuini/.local/envs/pytorch/lib/python3.5/site-packages/h5py/__init__.py:36: FutureWarning: Conversion of the second argument of issubdtype from `float` to `np.floating` is deprecated. In future, it will be treated as `np.float64 == np.dtype(float).type`.\n",
      "  from ._conv import register_converters as _register_converters\n"
     ]
    }
   ],
   "source": [
    "import os\n",
    "from os.path import join\n",
    "import sys\n",
    "import h5py\n",
    "import pandas as pd\n",
    "import pickle\n",
    "from time import time\n",
    "import numpy as np\n",
    "from matplotlib import pyplot as plt\n",
    "plt.style.use('classic')\n",
    "from tqdm import tqdm\n",
    "from scipy.io import loadmat\n",
    "from utils import *"
   ]
  },
  {
   "cell_type": "code",
   "execution_count": 3,
   "metadata": {},
   "outputs": [],
   "source": [
    "ROOT = join('/home','ansuini','repos','Decoding')\n",
    "sys.path.append(join(ROOT))\n",
    "os.chdir(join(ROOT,'notebooks') )\n",
    "results_folder = join(ROOT, 'results')"
   ]
  },
  {
   "cell_type": "code",
   "execution_count": 4,
   "metadata": {},
   "outputs": [
    {
     "name": "stdout",
     "output_type": "stream",
     "text": [
      "dict_keys(['area', 'posx', 'orientation', 'eccentricity', 'posy', 'luminosity'])\n"
     ]
    }
   ],
   "source": [
    "stimFeatures = parseContinuousStimFeatures()\n",
    "print(stimFeatures.keys())"
   ]
  },
  {
   "cell_type": "markdown",
   "metadata": {},
   "source": [
    "# Parameters"
   ]
  },
  {
   "cell_type": "code",
   "execution_count": 5,
   "metadata": {},
   "outputs": [],
   "source": [
    "nstim = 1440\n",
    "fraction = 0.2\n",
    "epsilon = 0.1\n",
    "nfolds = 5\n",
    "Cs = np.logspace(-6,-2,20)\n",
    "param_grid = {'C' : Cs}"
   ]
  },
  {
   "cell_type": "markdown",
   "metadata": {},
   "source": [
    "# Decoding continuous variable"
   ]
  },
  {
   "cell_type": "code",
   "execution_count": 6,
   "metadata": {},
   "outputs": [],
   "source": [
    "from sklearn import preprocessing\n",
    "from sklearn.svm import SVR\n",
    "from sklearn.model_selection import train_test_split\n",
    "from sklearn.model_selection import GridSearchCV\n",
    "from sklearn.metrics import make_scorer\n",
    "from sklearn.preprocessing import StandardScaler"
   ]
  },
  {
   "cell_type": "code",
   "execution_count": 7,
   "metadata": {},
   "outputs": [],
   "source": [
    "# metric\n",
    "from metrics import pearson\n",
    "def my_scorer(y_true, y_predicted):\n",
    "    return pearson(y_true,y_predicted)[0]"
   ]
  },
  {
   "cell_type": "code",
   "execution_count": 8,
   "metadata": {},
   "outputs": [],
   "source": [
    "def computePerformance(X,y,param_grid,\n",
    "                       epsilon=epsilon,\n",
    "                       fraction=fraction,\n",
    "                       nfolds=nfolds,\n",
    "                       njobs=1,\n",
    "                       nprocs=1):\n",
    "    \n",
    "    # define basis classifier\n",
    "    clf_ = SVR(kernel='linear',epsilon=epsilon)\n",
    "    # create scorer\n",
    "    my_func = make_scorer(my_scorer,greater_is_better=True)\n",
    "        \n",
    "    # permutation of the dataset\n",
    "    perm = np.random.permutation(X.shape[0])\n",
    "    X = X[perm,:]\n",
    "    y = y[perm]\n",
    "    \n",
    "    # divide intro training and test\n",
    "    ntest = int(np.floor(nstim*fraction))\n",
    "    ntrain = nstim-ntest\n",
    "    XTrain = X[:ntrain,:]\n",
    "    yTrain = y[:ntrain]\n",
    "    XTest = X[ntrain:]\n",
    "    yTest = y[ntrain:]\n",
    "    \n",
    "    # scale data\n",
    "    \n",
    "    scXTrain = StandardScaler()\n",
    "    scXTest = StandardScaler()\n",
    "    scyTrain = StandardScaler()\n",
    "    scyTest = StandardScaler()\n",
    "    \n",
    "    # reshape y to add a singleton dimension\n",
    "    yTrain = np.reshape(yTrain,(-1,1))\n",
    "    yTest = np.reshape(yTest,(-1,1))\n",
    "    \n",
    "    XTrain = scXTrain.fit_transform(XTrain)\n",
    "    XTest = scXTest.fit_transform(XTest)\n",
    "    yTrain = scyTrain.fit_transform(yTrain)\n",
    "    yTest = scyTest.fit_transform(yTest)\n",
    "               \n",
    "    # reshape back\n",
    "    yTrain = np.squeeze(yTrain)\n",
    "    yTest = np.squeeze(yTest)\n",
    "    \n",
    "    # define the grid search object\n",
    "    grid_search = GridSearchCV(clf_, \n",
    "                    param_grid, \n",
    "                    scoring=my_func, \n",
    "                    cv=nfolds, \n",
    "                    n_jobs=nprocs, \n",
    "                    refit=True,\n",
    "                    return_train_score=True)\n",
    "    tic = time()\n",
    "    grid_search.fit(XTrain, yTrain)        \n",
    "    print('Elapsed : {}'.format(time()-tic))  \n",
    "    \n",
    "    # final result : generalization to the test set\n",
    "    clf = SVR(C=grid_search.best_params_['C'], epsilon=epsilon)\n",
    "    clf.fit(XTrain,yTrain) \n",
    "    yPred = clf.predict(XTest)\n",
    "   \n",
    "    return clf, grid_search, yTest, yPred"
   ]
  },
  {
   "cell_type": "code",
   "execution_count": 9,
   "metadata": {},
   "outputs": [],
   "source": [
    "def plotResults(clf,grid_search,yTest,yPred,nunits,\n",
    "                exp,area,typeunit,obs,sizepop):\n",
    "    fig = plt.figure(figsize=(15,15))\n",
    "    fs = 15\n",
    "    \n",
    "    plt.subplot(2,2,1) \n",
    "    plt.text(0.1,0.9,'Experiment : ' + exp,fontsize=fs)\n",
    "    plt.text(0.1,0.8,'Area : ' + area,fontsize=fs)\n",
    "    plt.text(0.1,0.7,'Type of Unit : ' + typeunit,fontsize=fs)\n",
    "    plt.text(0.1,0.6,'N.of units : ' + str(nunits),fontsize=fs)\n",
    "    plt.text(0.1,0.4,'Observable : ' + obs,fontsize=fs)\n",
    "    \n",
    "    \n",
    "    plt.subplot(2,2,2)\n",
    "    Cs = grid_search.param_grid['C']\n",
    "    mean_test_score = grid_search.cv_results_['mean_test_score']\n",
    "    plt.semilogx(Cs,mean_test_score,'-o')\n",
    "    plt.ylabel('score')\n",
    "    plt.xlabel('C')\n",
    "    plt.title('Hyperpars search')\n",
    "    \n",
    "    plt.subplot(2,2,3)\n",
    "    \n",
    "    plt.plot(yTest,yPred,'.b')\n",
    "    r = pearsonr(yPred,yTest)\n",
    "    plt.xlabel('y test')\n",
    "    plt.ylabel('y pred')\n",
    "    plt.title('Prediction : {} --- corr : {}'.format(obs,np.round(r,3)) )\n",
    "    \n",
    "    \n",
    "    plt.subplot(2,2,4)\n",
    "    plt.hist(yTest,color='b',label='y test')\n",
    "    plt.hist(yPred,color='r',label='y pred')\n",
    "    plt.legend()\n",
    "    plt.title('Histograms y test, y pred')    \n",
    "    \n",
    "    \n",
    "    plt.savefig(join(ROOT,'notebooks',\n",
    "                     'test_figures',\n",
    "            exp + '_' + area + '_' + typeunit + '_' + obs + '.png'))\n",
    "    plt.show()    "
   ]
  },
  {
   "cell_type": "code",
   "execution_count": 10,
   "metadata": {},
   "outputs": [
    {
     "name": "stdout",
     "output_type": "stream",
     "text": [
      "359\n"
     ]
    }
   ],
   "source": [
    "# experimentals,ll,all,posx\n",
    "exp = 'Experimentals'\n",
    "area = 'll'\n",
    "typeunit = 'all'\n",
    "obs = 'posx'\n",
    "X = loadFiringRates(exp,area,typeunit)\n",
    "nunits = X.shape[1]\n",
    "print(nunits)\n",
    "y = stimFeatures[obs]"
   ]
  },
  {
   "cell_type": "code",
   "execution_count": 11,
   "metadata": {},
   "outputs": [
    {
     "data": {
      "text/plain": [
       "array([ 10,  28,  47,  65,  83, 102, 120, 139, 157, 175, 194, 212, 230,\n",
       "       249, 267, 286, 304, 322, 341, 359])"
      ]
     },
     "execution_count": 11,
     "metadata": {},
     "output_type": "execute_result"
    }
   ],
   "source": [
    "popsize = np.array(np.round(np.linspace(10,nunits,20)),dtype=int)\n",
    "popsize"
   ]
  },
  {
   "cell_type": "code",
   "execution_count": 12,
   "metadata": {},
   "outputs": [
    {
     "name": "stdout",
     "output_type": "stream",
     "text": [
      "Elapsed : 2.9721059799194336\n",
      "Elapsed : 5.074304819107056\n",
      "Elapsed : 7.4364495277404785\n",
      "Elapsed : 9.546252012252808\n",
      "Elapsed : 12.523985147476196\n",
      "Elapsed : 15.787415742874146\n",
      "Elapsed : 18.86586308479309\n",
      "Elapsed : 22.21008586883545\n",
      "Elapsed : 25.266406536102295\n",
      "Elapsed : 28.29415774345398\n",
      "Elapsed : 31.35260534286499\n",
      "Elapsed : 34.59356498718262\n",
      "Elapsed : 37.414652824401855\n",
      "Elapsed : 40.310511350631714\n",
      "Elapsed : 43.37688732147217\n",
      "Elapsed : 46.323517084121704\n",
      "Elapsed : 49.868475914001465\n",
      "Elapsed : 52.620275020599365\n",
      "Elapsed : 56.03201413154602\n",
      "Elapsed : 58.755897521972656\n"
     ]
    }
   ],
   "source": [
    "perm = np.random.permutation(X.shape[1])\n",
    "X = X[:,perm]\n",
    "R = []\n",
    "for size in popsize:\n",
    "    R.append(computePerformance(X[:,:size],y,param_grid))"
   ]
  },
  {
   "cell_type": "code",
   "execution_count": 13,
   "metadata": {},
   "outputs": [],
   "source": [
    "performances = [pearson(r[2],r[3])[0] for r in R]"
   ]
  },
  {
   "cell_type": "code",
   "execution_count": 24,
   "metadata": {},
   "outputs": [
    {
     "data": {
      "image/png": "[encoded data removed]",
      "text/plain": [
       "<Figure size 640x480 with 1 Axes>"
      ]
     },
     "metadata": {},
     "output_type": "display_data"
    }
   ],
   "source": [
    "plt.semilogx(popsize, performances,'-bo')\n",
    "plt.xlim([min(popsize)-1,max(popsize)+10])\n",
    "plt.show()"
   ]
  },
  {
   "cell_type": "code",
   "execution_count": 15,
   "metadata": {},
   "outputs": [
    {
     "name": "stdout",
     "output_type": "stream",
     "text": [
      "191\n"
     ]
    }
   ],
   "source": [
    "# naive,v1 all,posx\n",
    "exp = 'Naive'\n",
    "area = 'v1'\n",
    "typeunit = 'all'\n",
    "obs = 'posx'\n",
    "X = loadFiringRates(exp,area,typeunit)\n",
    "nunits = X.shape[1]\n",
    "print(nunits)\n",
    "y = stimFeatures[obs]"
   ]
  },
  {
   "cell_type": "code",
   "execution_count": 16,
   "metadata": {},
   "outputs": [
    {
     "data": {
      "text/plain": [
       "array([ 10,  20,  29,  39,  48,  58,  67,  77,  86,  96, 105, 115, 124,\n",
       "       134, 143, 153, 162, 172, 181, 191])"
      ]
     },
     "execution_count": 16,
     "metadata": {},
     "output_type": "execute_result"
    }
   ],
   "source": [
    "popsize = np.array(np.round(np.linspace(10,nunits,20)),dtype=int)\n",
    "popsize"
   ]
  },
  {
   "cell_type": "code",
   "execution_count": 17,
   "metadata": {},
   "outputs": [],
   "source": [
    "perm = np.random.permutation(X.shape[1])\n",
    "X = X[:,perm]\n",
    "R = []\n",
    "for size in popsize:\n",
    "    R.append(computePerformance(X[:,:size],y,param_grid))\n",
    "performances = [pearson(r[2],r[3])[0] for r in R]"
   ]
  },
  {
   "cell_type": "code",
   "execution_count": 19,
   "metadata": {},
   "outputs": [
    {
     "data": {
      "image/png": "[encoded data removed]",
      "text/plain": [
       "<Figure size 640x480 with 1 Axes>"
      ]
     },
     "metadata": {},
     "output_type": "display_data"
    }
   ],
   "source": [
    "plt.semilogx(popsize, performances,'-bo')\n",
    "plt.show()"
   ]
  },
  {
   "cell_type": "code",
   "execution_count": null,
   "metadata": {},
   "outputs": [],
   "source": [
    "import h5py\n",
    "import numpy as np\n",
    "\n",
    "def build_ppv(db_fname, area, units):\n",
    "    with h5py.File(db_fname, 'r') as db:\n",
    "        responses = db[area+'/' + units + '/data/single_trials'][()]\n",
    "        responses = np.split(responses, responses.shape[1], axis=1)\n",
    "\n",
    "    indices = []\n",
    "    for j in range(len(responses)):\n",
    "        responses[j] = np.squeeze(responses[j])\n",
    "        responses[j] = np.sort(responses[j].T, axis=0)\n",
    "        valid_trials = np.logical_not(np.any(np.isnan(responses[j]), axis=1))\n",
    "        for i in range(responses[j].shape[1]):\n",
    "            not_nans = np.logical_not(np.isnan(responses[j][:, i]))\n",
    "            responses[j][not_nans, i] = responses[j][not_nans, i][np.random.permutation(not_nans.sum())]\n",
    "        responses[j] = responses[j][valid_trials, :]\n",
    "        indices.append(np.ones(responses[j].shape[0])*j)\n",
    "\n",
    "    return (np.concatenate(indices), np.concatenate(responses))"
   ]
  },
  {
   "cell_type": "code",
   "execution_count": null,
   "metadata": {},
   "outputs": [],
   "source": []
  }
 ],
 "metadata": {
  "kernelspec": {
   "display_name": "PyTorch 0.4.0",
   "language": "python",
   "name": "pytorch"
  },
  "language_info": {
   "codemirror_mode": {
    "name": "ipython",
    "version": 3
   },
   "file_extension": ".py",
   "mimetype": "text/x-python",
   "name": "python",
   "nbconvert_exporter": "python",
   "pygments_lexer": "ipython3",
   "version": "3.5.2"
  }
 },
 "nbformat": 4,
 "nbformat_minor": 2
}
