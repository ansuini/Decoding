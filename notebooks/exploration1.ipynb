{
 "cells": [
  {
   "cell_type": "code",
   "execution_count": 1,
   "metadata": {},
   "outputs": [],
   "source": [
    "%reload_ext autoreload\n",
    "%autoreload 2\n",
    "%matplotlib inline"
   ]
  },
  {
   "cell_type": "code",
   "execution_count": 3,
   "metadata": {},
   "outputs": [],
   "source": [
    "import os\n",
    "from os.path import join\n",
    "import sys\n",
    "import h5py\n",
    "import pandas as pd\n",
    "import pickle\n",
    "from time import time\n",
    "import numpy as np\n",
    "from matplotlib import pyplot as plt\n",
    "plt.style.use('classic')\n",
    "from tqdm import tqdm\n",
    "from scipy.io import loadmat\n",
    "from utils import *"
   ]
  },
  {
   "cell_type": "code",
   "execution_count": 4,
   "metadata": {},
   "outputs": [],
   "source": [
    "ROOT = join('/home','ansuini','repos','Decoding')\n",
    "sys.path.append(join(ROOT))\n",
    "os.chdir(join(ROOT,'notebooks') )\n",
    "results_folder = join(ROOT, 'results')"
   ]
  },
  {
   "cell_type": "markdown",
   "metadata": {},
   "source": [
    "# Stimulus Features"
   ]
  },
  {
   "cell_type": "markdown",
   "metadata": {},
   "source": [
    "### Parse stimulus features"
   ]
  },
  {
   "cell_type": "code",
   "execution_count": 7,
   "metadata": {},
   "outputs": [],
   "source": [
    "stimFeatures = parseStimFeatures()"
   ]
  },
  {
   "cell_type": "code",
   "execution_count": 8,
   "metadata": {},
   "outputs": [
    {
     "name": "stdout",
     "output_type": "stream",
     "text": [
      "dict_keys(['luminosity', 'area', 'objid', 'posx', 'posy', 'eccentricity', 'orientation'])\n"
     ]
    }
   ],
   "source": [
    "print(stimFeatures.keys())"
   ]
  },
  {
   "cell_type": "markdown",
   "metadata": {},
   "source": [
    "# Units resume"
   ]
  },
  {
   "cell_type": "code",
   "execution_count": 13,
   "metadata": {},
   "outputs": [
    {
     "name": "stdout",
     "output_type": "stream",
     "text": [
      "Controls\n",
      "SU  :  [52, 6]\n",
      "MUA :  [288, 96]\n",
      "ALL :  [340, 102]\n",
      "\n",
      "Experimentals\n",
      "SU  :  [31, 105]\n",
      "MUA :  [156, 254]\n",
      "ALL :  [187, 359]\n",
      "\n",
      "Naive\n",
      "SU  :  [46, 82]\n",
      "MUA :  [145, 279]\n",
      "ALL :  [191, 361]\n",
      "\n"
     ]
    }
   ],
   "source": [
    "printResume()"
   ]
  },
  {
   "cell_type": "markdown",
   "metadata": {},
   "source": [
    "# Data exploration : mean and standard deviation of firing rates matrices\n",
    "\n",
    "\n",
    "We have three categories of data:\n",
    "\n",
    "- Controls\n",
    "- Naive\n",
    "- Experimentals"
   ]
  },
  {
   "cell_type": "code",
   "execution_count": 47,
   "metadata": {},
   "outputs": [
    {
     "data": {
      "image/png": "[encoded data removed]",
      "text/plain": [
       "<Figure size 1200x400 with 3 Axes>"
      ]
     },
     "metadata": {},
     "output_type": "display_data"
    }
   ],
   "source": [
    "target_areas = ['v1','ll']\n",
    "typeunit = 'all'\n",
    "offset = 0.3\n",
    "fs = 10\n",
    "\n",
    "fig = plt.figure(figsize=(15,5))\n",
    "count0 = 0\n",
    "for exp in Experiments:\n",
    "    count0 += 1\n",
    "    plt.subplot(1,3,count0)\n",
    "    count1 = 0\n",
    "    for area in target_areas:\n",
    "        count1 += 1\n",
    "        \n",
    "        x = loadFiringRates(exp,area,typeunit)\n",
    "        #observable\n",
    "        \n",
    "        \n",
    "        o1 = np.mean(x)\n",
    "        o2 = np.std(x)\n",
    "        \n",
    "        \n",
    "        plt.bar(count1 - offset, o1 ,0.2, color='b',label='mean')\n",
    "        plt.bar(count1 , o2 ,0.2, color='r',label='std')\n",
    "        \n",
    "        plt.xlim(0,3)\n",
    "        plt.ylim(0,12)\n",
    "    plt.xticks([1,2],target_areas)\n",
    "    \n",
    "    plt.title(exp)\n",
    "    plt.legend(fontsize=fs)\n",
    "    \n",
    "plt.savefig('exp1_' + typeunit +  '.png')"
   ]
  },
  {
   "cell_type": "code",
   "execution_count": null,
   "metadata": {},
   "outputs": [],
   "source": []
  }
 ],
 "metadata": {
  "kernelspec": {
   "display_name": "PyTorch 0.4.0",
   "language": "python",
   "name": "pytorch"
  },
  "language_info": {
   "codemirror_mode": {
    "name": "ipython",
    "version": 3
   },
   "file_extension": ".py",
   "mimetype": "text/x-python",
   "name": "python",
   "nbconvert_exporter": "python",
   "pygments_lexer": "ipython3",
   "version": "3.5.2"
  }
 },
 "nbformat": 4,
 "nbformat_minor": 2
}
